{
 "cells": [
  {
   "cell_type": "markdown",
   "id": "2ab8e255-8bdb-45a0-b32e-c0bb1675c3cd",
   "metadata": {},
   "source": [
    "**Basic types of recommendation systems**\n",
    "\n",
    "1- Demographic filtering: \n",
    "They offer generalized recommendations to every user, based on movie popularity and/or genre. The System recommends the same movies to users with similar demographic features. The suggestions will have a higher probability of being liked by the average audience.\n",
    "\n",
    "2- Content-based filtering:\n",
    "The general idea behind these recommender systems is that if a person likes a particular item, he or she will also like an item that is similar to it.\n",
    "This system uses item metadata, such as genre, director, description, actors, etc. for movies, to make these recommendations. \n",
    "\n",
    "3- Collaborative filtering:\n",
    "This system matches people with similar interests and provides recommendations based on this matching."
   ]
  },
  {
   "cell_type": "code",
   "execution_count": 1,
   "id": "88f51426-cb92-4c72-bbaf-03742a106669",
   "metadata": {},
   "outputs": [],
   "source": [
    "import pandas as pd \n",
    "import numpy as np\n",
    "import ast\n",
    "import matplotlib.pyplot as plt"
   ]
  },
  {
   "cell_type": "code",
   "execution_count": 2,
   "id": "d67216e2-40c4-4de9-89ea-25bf35aa9463",
   "metadata": {},
   "outputs": [
    {
     "data": {
      "text/html": [
       "<div>\n",
       "<style scoped>\n",
       "    .dataframe tbody tr th:only-of-type {\n",
       "        vertical-align: middle;\n",
       "    }\n",
       "\n",
       "    .dataframe tbody tr th {\n",
       "        vertical-align: top;\n",
       "    }\n",
       "\n",
       "    .dataframe thead th {\n",
       "        text-align: right;\n",
       "    }\n",
       "</style>\n",
       "<table border=\"1\" class=\"dataframe\">\n",
       "  <thead>\n",
       "    <tr style=\"text-align: right;\">\n",
       "      <th></th>\n",
       "      <th>movie_id</th>\n",
       "      <th>title</th>\n",
       "      <th>cast</th>\n",
       "      <th>crew</th>\n",
       "    </tr>\n",
       "  </thead>\n",
       "  <tbody>\n",
       "    <tr>\n",
       "      <th>0</th>\n",
       "      <td>19995</td>\n",
       "      <td>Avatar</td>\n",
       "      <td>[{'cast_id': 242, 'character': 'Jake Sully', '...</td>\n",
       "      <td>[{'credit_id': '52fe48009251416c750aca23', 'de...</td>\n",
       "    </tr>\n",
       "    <tr>\n",
       "      <th>1</th>\n",
       "      <td>285</td>\n",
       "      <td>Pirates of the Caribbean: At World's End</td>\n",
       "      <td>[{'cast_id': 4, 'character': 'Captain Jack Spa...</td>\n",
       "      <td>[{'credit_id': '52fe4232c3a36847f800b579', 'de...</td>\n",
       "    </tr>\n",
       "    <tr>\n",
       "      <th>2</th>\n",
       "      <td>206647</td>\n",
       "      <td>Spectre</td>\n",
       "      <td>[{'cast_id': 1, 'character': 'James Bond', 'cr...</td>\n",
       "      <td>[{'credit_id': '54805967c3a36829b5002c41', 'de...</td>\n",
       "    </tr>\n",
       "    <tr>\n",
       "      <th>3</th>\n",
       "      <td>49026</td>\n",
       "      <td>The Dark Knight Rises</td>\n",
       "      <td>[{'cast_id': 2, 'character': 'Bruce Wayne / Ba...</td>\n",
       "      <td>[{'credit_id': '52fe4781c3a36847f81398c3', 'de...</td>\n",
       "    </tr>\n",
       "    <tr>\n",
       "      <th>4</th>\n",
       "      <td>49529</td>\n",
       "      <td>John Carter</td>\n",
       "      <td>[{'cast_id': 5, 'character': 'John Carter', 'c...</td>\n",
       "      <td>[{'credit_id': '52fe479ac3a36847f813eaa3', 'de...</td>\n",
       "    </tr>\n",
       "  </tbody>\n",
       "</table>\n",
       "</div>"
      ],
      "text/plain": [
       "   movie_id                                     title  \\\n",
       "0     19995                                    Avatar   \n",
       "1       285  Pirates of the Caribbean: At World's End   \n",
       "2    206647                                   Spectre   \n",
       "3     49026                     The Dark Knight Rises   \n",
       "4     49529                               John Carter   \n",
       "\n",
       "                                                cast  \\\n",
       "0  [{'cast_id': 242, 'character': 'Jake Sully', '...   \n",
       "1  [{'cast_id': 4, 'character': 'Captain Jack Spa...   \n",
       "2  [{'cast_id': 1, 'character': 'James Bond', 'cr...   \n",
       "3  [{'cast_id': 2, 'character': 'Bruce Wayne / Ba...   \n",
       "4  [{'cast_id': 5, 'character': 'John Carter', 'c...   \n",
       "\n",
       "                                                crew  \n",
       "0  [{'credit_id': '52fe48009251416c750aca23', 'de...  \n",
       "1  [{'credit_id': '52fe4232c3a36847f800b579', 'de...  \n",
       "2  [{'credit_id': '54805967c3a36829b5002c41', 'de...  \n",
       "3  [{'credit_id': '52fe4781c3a36847f81398c3', 'de...  \n",
       "4  [{'credit_id': '52fe479ac3a36847f813eaa3', 'de...  "
      ]
     },
     "execution_count": 2,
     "metadata": {},
     "output_type": "execute_result"
    }
   ],
   "source": [
    "df1 = pd.read_csv('movies_data/tmdb_5000_credits.csv')\n",
    "\n",
    "for column in [\"cast\", \"crew\"]:\n",
    "    df1[column] = df1[column].apply(lambda v: ast.literal_eval(v))\n",
    "    \n",
    "df1.head()"
   ]
  },
  {
   "cell_type": "code",
   "execution_count": 4,
   "id": "8ff0298b-16a2-4ebb-92dd-27e59393a121",
   "metadata": {},
   "outputs": [
    {
     "data": {
      "text/plain": [
       "{'cast_id': 242,\n",
       " 'character': 'Jake Sully',\n",
       " 'credit_id': '5602a8a7c3a3685532001c9a',\n",
       " 'gender': 2,\n",
       " 'id': 65731,\n",
       " 'name': 'Sam Worthington',\n",
       " 'order': 0}"
      ]
     },
     "execution_count": 4,
     "metadata": {},
     "output_type": "execute_result"
    }
   ],
   "source": [
    "df1.iloc[0][\"cast\"][0]"
   ]
  },
  {
   "cell_type": "code",
   "execution_count": 5,
   "id": "fd69d8a7-2ab1-4ddb-a0ef-d8abb3efaac7",
   "metadata": {},
   "outputs": [
    {
     "data": {
      "text/plain": [
       "['budget',\n",
       " 'genres',\n",
       " 'homepage',\n",
       " 'id',\n",
       " 'keywords',\n",
       " 'original_language',\n",
       " 'original_title',\n",
       " 'overview',\n",
       " 'popularity',\n",
       " 'production_companies',\n",
       " 'production_countries',\n",
       " 'release_date',\n",
       " 'revenue',\n",
       " 'runtime',\n",
       " 'spoken_languages',\n",
       " 'status',\n",
       " 'tagline',\n",
       " 'title',\n",
       " 'vote_average',\n",
       " 'vote_count']"
      ]
     },
     "execution_count": 5,
     "metadata": {},
     "output_type": "execute_result"
    }
   ],
   "source": [
    "df2 = pd.read_csv('movies_data/tmdb_5000_movies.csv')\n",
    "\n",
    "for column in [\"genres\", \"keywords\", \"production_companies\", \"production_countries\", \"spoken_languages\"]:\n",
    "    df2[column] = df2[column].apply(lambda v: ast.literal_eval(v))\n",
    "    \n",
    "list(df2.columns)"
   ]
  },
  {
   "cell_type": "code",
   "execution_count": 6,
   "id": "5e75634b-1bc8-402c-a980-c2adcedce2c8",
   "metadata": {},
   "outputs": [
    {
     "name": "stdout",
     "output_type": "stream",
     "text": [
      "{'id': 28, 'name': 'Action'}\n",
      "{'id': 1463, 'name': 'culture clash'}\n",
      "{'iso_639_1': 'en', 'name': 'English'}\n"
     ]
    }
   ],
   "source": [
    "print(df2.iloc[0][\"genres\"][0])\n",
    "print(df2.iloc[0][\"keywords\"][0])\n",
    "print(df2.iloc[0][\"spoken_languages\"][0])"
   ]
  },
  {
   "cell_type": "markdown",
   "id": "64d9151a-ec6b-4163-baaa-54d1eb9343da",
   "metadata": {},
   "source": [
    "merging the 2 datasets together on \"id\""
   ]
  },
  {
   "cell_type": "code",
   "execution_count": 7,
   "id": "4e1b8c3e-4264-46b8-940f-1a0eeb29c2e3",
   "metadata": {},
   "outputs": [
    {
     "data": {
      "text/html": [
       "<div>\n",
       "<style scoped>\n",
       "    .dataframe tbody tr th:only-of-type {\n",
       "        vertical-align: middle;\n",
       "    }\n",
       "\n",
       "    .dataframe tbody tr th {\n",
       "        vertical-align: top;\n",
       "    }\n",
       "\n",
       "    .dataframe thead th {\n",
       "        text-align: right;\n",
       "    }\n",
       "</style>\n",
       "<table border=\"1\" class=\"dataframe\">\n",
       "  <thead>\n",
       "    <tr style=\"text-align: right;\">\n",
       "      <th></th>\n",
       "      <th>budget</th>\n",
       "      <th>genres</th>\n",
       "      <th>homepage</th>\n",
       "      <th>id</th>\n",
       "      <th>keywords</th>\n",
       "      <th>original_language</th>\n",
       "      <th>original_title</th>\n",
       "      <th>overview</th>\n",
       "      <th>popularity</th>\n",
       "      <th>production_companies</th>\n",
       "      <th>...</th>\n",
       "      <th>runtime</th>\n",
       "      <th>spoken_languages</th>\n",
       "      <th>status</th>\n",
       "      <th>tagline</th>\n",
       "      <th>title_x</th>\n",
       "      <th>vote_average</th>\n",
       "      <th>vote_count</th>\n",
       "      <th>title_y</th>\n",
       "      <th>cast</th>\n",
       "      <th>crew</th>\n",
       "    </tr>\n",
       "  </thead>\n",
       "  <tbody>\n",
       "    <tr>\n",
       "      <th>0</th>\n",
       "      <td>237000000</td>\n",
       "      <td>[{'id': 28, 'name': 'Action'}, {'id': 12, 'nam...</td>\n",
       "      <td>http://www.avatarmovie.com/</td>\n",
       "      <td>19995</td>\n",
       "      <td>[{'id': 1463, 'name': 'culture clash'}, {'id':...</td>\n",
       "      <td>en</td>\n",
       "      <td>Avatar</td>\n",
       "      <td>In the 22nd century, a paraplegic Marine is di...</td>\n",
       "      <td>150.437577</td>\n",
       "      <td>[{'name': 'Ingenious Film Partners', 'id': 289...</td>\n",
       "      <td>...</td>\n",
       "      <td>162.0</td>\n",
       "      <td>[{'iso_639_1': 'en', 'name': 'English'}, {'iso...</td>\n",
       "      <td>Released</td>\n",
       "      <td>Enter the World of Pandora.</td>\n",
       "      <td>Avatar</td>\n",
       "      <td>7.2</td>\n",
       "      <td>11800</td>\n",
       "      <td>Avatar</td>\n",
       "      <td>[{'cast_id': 242, 'character': 'Jake Sully', '...</td>\n",
       "      <td>[{'credit_id': '52fe48009251416c750aca23', 'de...</td>\n",
       "    </tr>\n",
       "  </tbody>\n",
       "</table>\n",
       "<p>1 rows × 23 columns</p>\n",
       "</div>"
      ],
      "text/plain": [
       "      budget                                             genres  \\\n",
       "0  237000000  [{'id': 28, 'name': 'Action'}, {'id': 12, 'nam...   \n",
       "\n",
       "                      homepage     id  \\\n",
       "0  http://www.avatarmovie.com/  19995   \n",
       "\n",
       "                                            keywords original_language  \\\n",
       "0  [{'id': 1463, 'name': 'culture clash'}, {'id':...                en   \n",
       "\n",
       "  original_title                                           overview  \\\n",
       "0         Avatar  In the 22nd century, a paraplegic Marine is di...   \n",
       "\n",
       "   popularity                               production_companies  ... runtime  \\\n",
       "0  150.437577  [{'name': 'Ingenious Film Partners', 'id': 289...  ...   162.0   \n",
       "\n",
       "                                    spoken_languages    status  \\\n",
       "0  [{'iso_639_1': 'en', 'name': 'English'}, {'iso...  Released   \n",
       "\n",
       "                       tagline title_x vote_average vote_count title_y  \\\n",
       "0  Enter the World of Pandora.  Avatar          7.2      11800  Avatar   \n",
       "\n",
       "                                                cast  \\\n",
       "0  [{'cast_id': 242, 'character': 'Jake Sully', '...   \n",
       "\n",
       "                                                crew  \n",
       "0  [{'credit_id': '52fe48009251416c750aca23', 'de...  \n",
       "\n",
       "[1 rows x 23 columns]"
      ]
     },
     "execution_count": 7,
     "metadata": {},
     "output_type": "execute_result"
    }
   ],
   "source": [
    "df1.rename(columns={\"movie_id\": \"id\"}, inplace=True)\n",
    "df = df2.merge(df1, how=\"inner\", on=\"id\")\n",
    "df.head(1)"
   ]
  },
  {
   "cell_type": "markdown",
   "id": "02515a90-1aa8-49ff-a42b-86ed9bcd9e43",
   "metadata": {},
   "source": [
    "**Demographic Filtering**\n",
    "\n",
    "1- score each movie.\n",
    "\n",
    "2- sort the scores and recommend the movie with the highest score to all the users.\n",
    "\n",
    "The average rating is not fair due to the difference in the count of votes ==> we need a weighted average.\n",
    "\n",
    "We use the IMDB weighted average: \n",
    "\n",
    "From ChatGPT:\n",
    "\n",
    "IMDb's rating system is based on the average rating given to a movie or TV show by registered users of the site. Users can rate titles on a scale of 1 to 10, and the overall rating is then calculated as the weighted average of all the individual ratings. The weighting is designed to ensure that titles with a small number of votes do not skew the overall rating too much. Additionally, IMDb uses a formula to calculate the exact rating, taking into account factors such as the number of votes, the age of votes, and the distribution of ratings. This helps to prevent manipulation of the ratings and ensures a fair representation of the overall opinion of the user base.\n",
    "\n",
    "a source from 10 years ago :D\n",
    "The formula is given at the bottom of the Top 250 page.\n",
    "\n",
    "The formula for calculating the Top Rated 250 Titles gives a true Bayesian estimate:\n",
    "\n",
    "weighted rating (WR) = (v ÷ (v+m)) × R + (m ÷ (v+m)) × C where:\n",
    "\n",
    "v is the number of votes for the movie\n",
    "\n",
    "m is the minimum votes required to be listed in the chart;\n",
    "\n",
    "R is the average rating of the movie; \n",
    "\n",
    "C is the mean vote across the whole report"
   ]
  },
  {
   "cell_type": "code",
   "execution_count": 8,
   "id": "667c815a-bbd9-4d37-a134-e00b4dd20793",
   "metadata": {},
   "outputs": [
    {
     "data": {
      "text/plain": [
       "6.092171559442016"
      ]
     },
     "execution_count": 8,
     "metadata": {},
     "output_type": "execute_result"
    }
   ],
   "source": [
    "# The mean vote for all the movies (from 1 to 10)\n",
    "C= df['vote_average'].mean()\n",
    "C"
   ]
  },
  {
   "cell_type": "code",
   "execution_count": 9,
   "id": "ea19f038-ee92-44a2-a6bd-72e1f6f0a825",
   "metadata": {},
   "outputs": [
    {
     "data": {
      "text/plain": [
       "1838.4000000000015"
      ]
     },
     "execution_count": 9,
     "metadata": {},
     "output_type": "execute_result"
    }
   ],
   "source": [
    "# we can use a cut off ==> for example, only consider movies with more votes than at least 90% of all the movies\n",
    "m= df['vote_count'].quantile(0.9)\n",
    "m"
   ]
  },
  {
   "cell_type": "code",
   "execution_count": 10,
   "id": "569b1712-41bb-4849-98e1-8e14b2542c68",
   "metadata": {},
   "outputs": [
    {
     "data": {
      "text/plain": [
       "(481, 23)"
      ]
     },
     "execution_count": 10,
     "metadata": {},
     "output_type": "execute_result"
    }
   ],
   "source": [
    "df_filtered = df.loc[df[\"vote_count\"] >= m]\n",
    "df_filtered.shape"
   ]
  },
  {
   "cell_type": "code",
   "execution_count": 11,
   "id": "d668a8e5-bc56-44fd-ae75-ff4570675dd3",
   "metadata": {},
   "outputs": [],
   "source": [
    "def weighted_rating(df):\n",
    "    v = df['vote_count']\n",
    "    R = df['vote_average']\n",
    "    return (v/(v+m) * R) + (m/(m+v) * C)"
   ]
  },
  {
   "cell_type": "code",
   "execution_count": 12,
   "id": "8c4da0fb-2b9f-4396-b738-64e772a2b28f",
   "metadata": {},
   "outputs": [
    {
     "name": "stderr",
     "output_type": "stream",
     "text": [
      "C:\\Users\\SandraSukarieh\\AppData\\Local\\Temp\\ipykernel_9728\\1675928483.py:1: SettingWithCopyWarning: \n",
      "A value is trying to be set on a copy of a slice from a DataFrame.\n",
      "Try using .loc[row_indexer,col_indexer] = value instead\n",
      "\n",
      "See the caveats in the documentation: https://pandas.pydata.org/pandas-docs/stable/user_guide/indexing.html#returning-a-view-versus-a-copy\n",
      "  df_filtered['score'] = df_filtered.apply(weighted_rating, axis=1)\n"
     ]
    },
    {
     "data": {
      "text/html": [
       "<div>\n",
       "<style scoped>\n",
       "    .dataframe tbody tr th:only-of-type {\n",
       "        vertical-align: middle;\n",
       "    }\n",
       "\n",
       "    .dataframe tbody tr th {\n",
       "        vertical-align: top;\n",
       "    }\n",
       "\n",
       "    .dataframe thead th {\n",
       "        text-align: right;\n",
       "    }\n",
       "</style>\n",
       "<table border=\"1\" class=\"dataframe\">\n",
       "  <thead>\n",
       "    <tr style=\"text-align: right;\">\n",
       "      <th></th>\n",
       "      <th>original_title</th>\n",
       "      <th>score</th>\n",
       "    </tr>\n",
       "  </thead>\n",
       "  <tbody>\n",
       "    <tr>\n",
       "      <th>1881</th>\n",
       "      <td>The Shawshank Redemption</td>\n",
       "      <td>8.059258</td>\n",
       "    </tr>\n",
       "    <tr>\n",
       "      <th>662</th>\n",
       "      <td>Fight Club</td>\n",
       "      <td>7.939256</td>\n",
       "    </tr>\n",
       "    <tr>\n",
       "      <th>65</th>\n",
       "      <td>The Dark Knight</td>\n",
       "      <td>7.920020</td>\n",
       "    </tr>\n",
       "    <tr>\n",
       "      <th>3232</th>\n",
       "      <td>Pulp Fiction</td>\n",
       "      <td>7.904645</td>\n",
       "    </tr>\n",
       "    <tr>\n",
       "      <th>96</th>\n",
       "      <td>Inception</td>\n",
       "      <td>7.863239</td>\n",
       "    </tr>\n",
       "    <tr>\n",
       "      <th>3337</th>\n",
       "      <td>The Godfather</td>\n",
       "      <td>7.851236</td>\n",
       "    </tr>\n",
       "    <tr>\n",
       "      <th>95</th>\n",
       "      <td>Interstellar</td>\n",
       "      <td>7.809479</td>\n",
       "    </tr>\n",
       "    <tr>\n",
       "      <th>809</th>\n",
       "      <td>Forrest Gump</td>\n",
       "      <td>7.803188</td>\n",
       "    </tr>\n",
       "    <tr>\n",
       "      <th>329</th>\n",
       "      <td>The Lord of the Rings: The Return of the King</td>\n",
       "      <td>7.727243</td>\n",
       "    </tr>\n",
       "    <tr>\n",
       "      <th>1990</th>\n",
       "      <td>The Empire Strikes Back</td>\n",
       "      <td>7.697884</td>\n",
       "    </tr>\n",
       "  </tbody>\n",
       "</table>\n",
       "</div>"
      ],
      "text/plain": [
       "                                     original_title     score\n",
       "1881                       The Shawshank Redemption  8.059258\n",
       "662                                      Fight Club  7.939256\n",
       "65                                  The Dark Knight  7.920020\n",
       "3232                                   Pulp Fiction  7.904645\n",
       "96                                        Inception  7.863239\n",
       "3337                                  The Godfather  7.851236\n",
       "95                                     Interstellar  7.809479\n",
       "809                                    Forrest Gump  7.803188\n",
       "329   The Lord of the Rings: The Return of the King  7.727243\n",
       "1990                        The Empire Strikes Back  7.697884"
      ]
     },
     "execution_count": 12,
     "metadata": {},
     "output_type": "execute_result"
    }
   ],
   "source": [
    "df_filtered['score'] = df_filtered.apply(weighted_rating, axis=1)\n",
    "df_filtered = df_filtered.sort_values('score', ascending=False)\n",
    "df_filtered.head(10)[[\"original_title\", \"score\"]]"
   ]
  },
  {
   "cell_type": "markdown",
   "id": "37bc1de7-4d33-424d-84be-2ec27c9f6c67",
   "metadata": {},
   "source": [
    "check the popularity as well"
   ]
  },
  {
   "cell_type": "code",
   "execution_count": 13,
   "id": "b4626a6c-9a75-4096-afe8-570175c4adb7",
   "metadata": {},
   "outputs": [
    {
     "data": {
      "text/html": [
       "<div>\n",
       "<style scoped>\n",
       "    .dataframe tbody tr th:only-of-type {\n",
       "        vertical-align: middle;\n",
       "    }\n",
       "\n",
       "    .dataframe tbody tr th {\n",
       "        vertical-align: top;\n",
       "    }\n",
       "\n",
       "    .dataframe thead th {\n",
       "        text-align: right;\n",
       "    }\n",
       "</style>\n",
       "<table border=\"1\" class=\"dataframe\">\n",
       "  <thead>\n",
       "    <tr style=\"text-align: right;\">\n",
       "      <th></th>\n",
       "      <th>original_title</th>\n",
       "      <th>popularity</th>\n",
       "    </tr>\n",
       "  </thead>\n",
       "  <tbody>\n",
       "    <tr>\n",
       "      <th>546</th>\n",
       "      <td>Minions</td>\n",
       "      <td>875.581305</td>\n",
       "    </tr>\n",
       "    <tr>\n",
       "      <th>95</th>\n",
       "      <td>Interstellar</td>\n",
       "      <td>724.247784</td>\n",
       "    </tr>\n",
       "    <tr>\n",
       "      <th>788</th>\n",
       "      <td>Deadpool</td>\n",
       "      <td>514.569956</td>\n",
       "    </tr>\n",
       "    <tr>\n",
       "      <th>94</th>\n",
       "      <td>Guardians of the Galaxy</td>\n",
       "      <td>481.098624</td>\n",
       "    </tr>\n",
       "    <tr>\n",
       "      <th>127</th>\n",
       "      <td>Mad Max: Fury Road</td>\n",
       "      <td>434.278564</td>\n",
       "    </tr>\n",
       "    <tr>\n",
       "      <th>28</th>\n",
       "      <td>Jurassic World</td>\n",
       "      <td>418.708552</td>\n",
       "    </tr>\n",
       "    <tr>\n",
       "      <th>199</th>\n",
       "      <td>Pirates of the Caribbean: The Curse of the Bla...</td>\n",
       "      <td>271.972889</td>\n",
       "    </tr>\n",
       "    <tr>\n",
       "      <th>82</th>\n",
       "      <td>Dawn of the Planet of the Apes</td>\n",
       "      <td>243.791743</td>\n",
       "    </tr>\n",
       "    <tr>\n",
       "      <th>200</th>\n",
       "      <td>The Hunger Games: Mockingjay - Part 1</td>\n",
       "      <td>206.227151</td>\n",
       "    </tr>\n",
       "    <tr>\n",
       "      <th>88</th>\n",
       "      <td>Big Hero 6</td>\n",
       "      <td>203.734590</td>\n",
       "    </tr>\n",
       "  </tbody>\n",
       "</table>\n",
       "</div>"
      ],
      "text/plain": [
       "                                        original_title  popularity\n",
       "546                                            Minions  875.581305\n",
       "95                                        Interstellar  724.247784\n",
       "788                                           Deadpool  514.569956\n",
       "94                             Guardians of the Galaxy  481.098624\n",
       "127                                 Mad Max: Fury Road  434.278564\n",
       "28                                      Jurassic World  418.708552\n",
       "199  Pirates of the Caribbean: The Curse of the Bla...  271.972889\n",
       "82                      Dawn of the Planet of the Apes  243.791743\n",
       "200              The Hunger Games: Mockingjay - Part 1  206.227151\n",
       "88                                          Big Hero 6  203.734590"
      ]
     },
     "execution_count": 13,
     "metadata": {},
     "output_type": "execute_result"
    }
   ],
   "source": [
    "df_popularity = df.sort_values('popularity', ascending=False)\n",
    "df_popularity.head(10)[[\"original_title\", \"popularity\"]]"
   ]
  },
  {
   "cell_type": "markdown",
   "id": "fc990e32-f5c9-492a-b3df-ace64ab57bb1",
   "metadata": {},
   "source": [
    "**Content-based Filtering**\n",
    "\n",
    "The content of the movie is used to calculate its similarity with other movies, then similar movies are recommended.\n",
    "\n",
    "The \"overview\" feature can be used in this approach."
   ]
  },
  {
   "cell_type": "code",
   "execution_count": 14,
   "id": "83d73f1b-3b99-4f96-b3bc-2d23d8f8f601",
   "metadata": {},
   "outputs": [
    {
     "data": {
      "text/plain": [
       "'In the 22nd century, a paraplegic Marine is dispatched to the moon Pandora on a unique mission, but becomes torn between following orders and protecting an alien civilization.'"
      ]
     },
     "execution_count": 14,
     "metadata": {},
     "output_type": "execute_result"
    }
   ],
   "source": [
    "df.iloc[0][\"overview\"]"
   ]
  },
  {
   "cell_type": "markdown",
   "id": "1767833e-a9b8-4bbb-8451-6d2ea5599353",
   "metadata": {},
   "source": [
    "The TF-IDF is a good approach that can achieve this goal.\n",
    "\n",
    "Reminder:\n",
    "\n",
    "In information retrieval, tf–idf, short for term frequency–inverse document frequency, is a measure of importance of a word to a document in a collection or corpus, adjusted for the fact that some words appear more frequently in general.\n",
    "\n",
    "The tf–idf is the product of two statistics, term frequency and inverse document frequency.\n",
    "\n",
    "1- Term frequency, tf(t,d), is the relative frequency of term t within document d: *(term instances/total instances)*\n",
    "\n",
    "2- The inverse document frequency is a measure of how much information the word provides, i.e., if it is common or rare across all documents: *log(number of documents/documents with term)*"
   ]
  },
  {
   "cell_type": "code",
   "execution_count": 15,
   "id": "2a3f6fad-eacb-4420-83d4-706e2d4ed022",
   "metadata": {},
   "outputs": [
    {
     "data": {
      "text/plain": [
       "(4803, 20978)"
      ]
     },
     "execution_count": 15,
     "metadata": {},
     "output_type": "execute_result"
    }
   ],
   "source": [
    "from sklearn.feature_extraction.text import TfidfVectorizer\n",
    "\n",
    "tfidf = TfidfVectorizer(stop_words='english')\n",
    "\n",
    "df['overview'] = df['overview'].fillna('')\n",
    "\n",
    "tfidf_matrix = tfidf.fit_transform(df['overview'])\n",
    "\n",
    "tfidf_matrix.shape"
   ]
  },
  {
   "cell_type": "markdown",
   "id": "f5fa024e-d71c-4705-b8be-f5ab9ce9522c",
   "metadata": {},
   "source": [
    "around 20,000 different words were used to describe the 4800 movies in the dataset."
   ]
  },
  {
   "cell_type": "code",
   "execution_count": 16,
   "id": "147fea56-dc66-4fac-8c6e-97762ac0d677",
   "metadata": {},
   "outputs": [
    {
     "data": {
      "text/plain": [
       "<4803x20978 sparse matrix of type '<class 'numpy.float64'>'\n",
       "\twith 125840 stored elements in Compressed Sparse Row format>"
      ]
     },
     "execution_count": 16,
     "metadata": {},
     "output_type": "execute_result"
    }
   ],
   "source": [
    "tfidf_matrix"
   ]
  },
  {
   "cell_type": "markdown",
   "id": "95286c38-5bcd-47e8-ba04-7b8a9cd00fcd",
   "metadata": {},
   "source": [
    "then we use the cosine similarity to calculate the similarity between 2 movies.\n",
    "\n",
    "Cosine similarity is easy to compute, especially with sparse matrices, and it can capture the overall similarity of the documents regardless of their length. However, it also has some drawbacks. It does not account for the frequency of the words, so it may not reflect the importance of rare or common terms.\n",
    "\n",
    "to sum-up:\n",
    "\n",
    "TF-IDF is a way to measure the importance of tokens in text ==> it's way to turn a document into a list of numbers.\n",
    "\n",
    "To compute cosine similarity, you need two document vectors; the vectors represent each unique term with an index, and the value at that index is the measure of how important that term is to the document.\n",
    "\n",
    "scikit-learn already provides pairwise metrics that work for both dense and sparse representations of vectors. In this case we need a dot product that is also known as the linear kernel."
   ]
  },
  {
   "cell_type": "code",
   "execution_count": 17,
   "id": "c2a2dd97-9283-4b6f-9197-535220eca9e1",
   "metadata": {},
   "outputs": [],
   "source": [
    "from sklearn.metrics.pairwise import linear_kernel\n",
    "\n",
    "cosine_sim = linear_kernel(tfidf_matrix, tfidf_matrix)"
   ]
  },
  {
   "cell_type": "code",
   "execution_count": 18,
   "id": "0e07f749-55b0-4a71-980c-3990cd20c9f7",
   "metadata": {},
   "outputs": [],
   "source": [
    "# create a dictionary with the title as a key and the index as a value to use in the recommendation function\n",
    "title_indices = dict(zip(df[\"original_title\"], df.index))\n",
    "\n",
    "# create another dictionary with the index as the key and the title as the title\n",
    "indices_titles = dict((v,k) for k,v in title_indices.items())\n",
    "\n",
    "def get_content_based_recommendations(title, cosine_sim=cosine_sim):\n",
    "    # get the index of the movie using the title\n",
    "    idx = title_indices[title]\n",
    "\n",
    "    # get the pairwsie similarity scores of all movies with that movie\n",
    "    sim_scores = list(enumerate(cosine_sim[idx]))\n",
    "\n",
    "    # sort the movies based on the similarity scores: \n",
    "    # the list is a list of tuples where the first item is the index and the second is the similarity with our movie\n",
    "    sim_scores = sorted(sim_scores, key=lambda x: x[1], reverse=True)\n",
    "\n",
    "    # get the 10 most similar movies\n",
    "    sim_scores = sim_scores[1:11]\n",
    "\n",
    "    # get the movie indices\n",
    "    movie_indices = [i[0] for i in sim_scores]\n",
    "\n",
    "    # get the titles of the top 10 most similar movies\n",
    "    top_similar = [indices_titles[i] for i in movie_indices]\n",
    "\n",
    "    return top_similar"
   ]
  },
  {
   "cell_type": "code",
   "execution_count": 19,
   "id": "98956fe2-1a43-4a20-aa61-e647a0dabb3c",
   "metadata": {},
   "outputs": [
    {
     "data": {
      "text/plain": [
       "['UHF',\n",
       " 'Project X',\n",
       " 'The Hurt Locker',\n",
       " 'Raging Bull',\n",
       " 'The Animal',\n",
       " 'Blast from the Past',\n",
       " 'Go for It!',\n",
       " 'Freaky Deaky',\n",
       " 'Dancer, Texas Pop. 81',\n",
       " 'This Is Martin Bonner']"
      ]
     },
     "execution_count": 19,
     "metadata": {},
     "output_type": "execute_result"
    }
   ],
   "source": [
    "get_content_based_recommendations('Fight Club')"
   ]
  },
  {
   "cell_type": "code",
   "execution_count": 20,
   "id": "359c36be-a529-409b-a585-aa6320807b7d",
   "metadata": {},
   "outputs": [
    {
     "data": {
      "text/plain": [
       "['Despicable Me 2',\n",
       " 'Stuart Little 2',\n",
       " 'The Guilt Trip',\n",
       " 'Home Alone',\n",
       " 'Freeway',\n",
       " 'Darling Companion',\n",
       " 'The League of Extraordinary Gentlemen',\n",
       " 'Velvet Goldmine',\n",
       " 'The Spy Next Door',\n",
       " 'Wild Wild West']"
      ]
     },
     "execution_count": 20,
     "metadata": {},
     "output_type": "execute_result"
    }
   ],
   "source": [
    "get_content_based_recommendations('Minions')"
   ]
  },
  {
   "cell_type": "markdown",
   "id": "30067274-2583-4ab6-92ff-cef789bd8d7d",
   "metadata": {},
   "source": [
    "This can also be enhanced by including more metadata such as the keywords, actors, directors, and the genre.\n",
    "\n",
    "We can extract those information and build one string for each movie aggregating all of those information. \n",
    "\n",
    "However, the tf-idf is not suitable here because we cannot punish actors/directors who worked on a lot of movies. So, we can use\n",
    "\n",
    "*from sklearn.feature_extraction.text import CountVectorizer*\n",
    "\n",
    "which converts a collection of text documents to a matrix of token counts. Then the cosine similarity can be used as explained before."
   ]
  },
  {
   "cell_type": "markdown",
   "id": "27436133-deb4-45d1-9b18-fa3e20352eda",
   "metadata": {},
   "source": [
    "**Collaborative Filtering**"
   ]
  },
  {
   "attachments": {
    "59d143c1-637d-4c8c-9623-6b16a96d5d65.png": {
     "image/png": "[encoded data removed]"
    },
    "e1846c1e-9d07-4a39-baa2-5f9c5e8bb852.png": {
     "image/png": "[encoded data removed]"
    }
   },
   "cell_type": "markdown",
   "id": "fe038d0c-84d9-4538-ae3c-aeff4cc01379",
   "metadata": {},
   "source": [
    "a recommendation approach that takes into account the taste of each user.\n",
    "\n",
    "1- User based filtering: These systems recommend products to a user that similar users have liked. The similarity between 2 users can be calculated using the pearson correlation/cosine similarity of the 2 users' rates.\n",
    "\n",
    "This is a very simple, but one main issue is that users’ preference can change over time.\n",
    "\n",
    "![image.png](attachment:e1846c1e-9d07-4a39-baa2-5f9c5e8bb852.png)\n",
    "\n",
    "Step 1: Calculating the similarity between Alice and all the other users\n",
    "\n",
    "At first we calculate the averages of the ratings of all the user ratings excluding I5 as it is not rated by Alice:\n",
    "\n",
    "r_average(Alice) = (5 + 4 + 1 + 4)/4 = 3.5\n",
    "\n",
    "r_average(U1) = 2.25\n",
    "\n",
    "r_average(U2) = 3.5\n",
    "\n",
    "r_average(U3) = 3\n",
    "\n",
    "Then we update the rates of the movies using the following formula: r_new(user1, m1) = r(user1, m1) - r_average(user1)\n",
    "\n",
    "![image.png](attachment:59d143c1-637d-4c8c-9623-6b16a96d5d65.png)\n",
    "\n",
    "Using this matrix, we can calculate the similarity between Alice and the other users using the cosine similarity between the vectors.\n",
    "\n",
    "Step 2: Predict Alice's rating for I5 using her similarity scores with the other users ==> weighted average\n",
    "\n",
    "r(Alice, I5) = r_average(Alice) + (sim(Alice, U1)*r_new(U1, I5) + sim(Alice, U2)*r_new(U2, I5) + sim(Alice, U3)*r_new(U3, I5)) / (sim(Alice, U1) + sim(Alice, U2) + sim(Alice, U3))\n",
    "\n",
    "r(Alice, I5) = 3.83"
   ]
  },
  {
   "attachments": {
    "f4d16240-0bc7-4aa9-86fa-18c83810dbe0.png": {
     "image/png": "[encoded data removed]"
    }
   },
   "cell_type": "markdown",
   "id": "94fbab60-b7e7-4175-9f0f-7e9722ace507",
   "metadata": {},
   "source": [
    "=======================================================\n",
    "\n",
    "2- Item based filtering (first invented and used by Amazon in 1998): We explore the relationship between the pair of items (the user who bought Y, also bought Z). We find the missing rating with the help of the ratings given to the other items by the user.\n",
    "\n",
    "In other words: rather than matching the user to similar customers, item-to-item collaborative filtering matches each of the user’s purchased and rated items to similar items, then combines those similar items into a recommendation list.\n",
    "\n",
    "the main issue is scalability. The computation grows with both the customer and the product. \n",
    "\n",
    "![image.png](attachment:f4d16240-0bc7-4aa9-86fa-18c83810dbe0.png)\n",
    "\n",
    "Step 1: Calculate the similarity between items using the cosine similarity:\n",
    "\n",
    "in this example the item pairs are (Item_1, Item_2), (Item_1, Item_3), and (Item_2, Item_3)\n",
    "\n",
    "In the table, we can see only User_2 and User_3 have rated for both items 1 and 2. \n",
    "\n",
    "==> sim(Item1, Item2) =  0.9\n",
    "\n",
    "sim(Item1, Item3) = 0.789\n",
    "\n",
    "sim(Item2, Item3) = 0.869\n",
    "\n",
    "Step 2: Predict the rating of the missing item using the most similar items already rated by the user\n",
    "\n",
    "r(User_1, Item_2) = (r(User_1, Item_1)*sim(Item1, Item2) + r(User_1, Item_3)*sim(Item2, Item3)) / (sim(Item1, Item2) + sim(Item2, Item3))\n",
    "\n",
    "==> r(User_1, Item_2) = 2.49\n",
    "\n",
    "r(User_2, Item_3) = 3.43\n",
    "\n",
    "r(User_4, Item_1) = 2"
   ]
  }
 ],
 "metadata": {
  "kernelspec": {
   "display_name": "Python 3 (ipykernel)",
   "language": "python",
   "name": "python3"
  },
  "language_info": {
   "codemirror_mode": {
    "name": "ipython",
    "version": 3
   },
   "file_extension": ".py",
   "mimetype": "text/x-python",
   "name": "python",
   "nbconvert_exporter": "python",
   "pygments_lexer": "ipython3",
   "version": "3.11.0"
  }
 },
 "nbformat": 4,
 "nbformat_minor": 5
}
